{
 "cells": [
  {
   "cell_type": "code",
   "execution_count": 84,
   "id": "37c742ea",
   "metadata": {},
   "outputs": [],
   "source": [
    "# Import packages\n",
    "import pandas as pd\n",
    "from bs4 import BeautifulSoup\n",
    "import json\n"
   ]
  },
  {
   "cell_type": "code",
   "execution_count": null,
   "id": "2f6e0020",
   "metadata": {},
   "outputs": [
    {
     "data": {
      "text/plain": [
       "{'^TNX': 'CBOE Interest Rate 10 Year T No',\n",
       " '^TYX': 'Treasury Yield 30 Years',\n",
       " '^FVX': 'Treasury Yield 5 Years',\n",
       " '^IRX': '13 WEEK TREASURY BILL'}"
      ]
     },
     "execution_count": 87,
     "metadata": {},
     "output_type": "execute_result"
    }
   ],
   "source": [
    "# Extract word indices\n",
    "with open('../JsonFiles/WorldIndices.json','r') as file:\n",
    "    wi_df = json.load(file)\n",
    "\n",
    "world_indices = []\n",
    "word_indices_timezones = []\n",
    "for i in wi_df['quoteResponse']['result']:\n",
    "    world_indices.append(i['symbol'])\n",
    "    word_indices_timezones.append(i['exchangeTimezoneShortName'])\n",
    "\n",
    "# Extract word indices dictionary with ticker and full exchange name\n",
    "world_indices_dictionary = {}\n",
    "for i in wi_df['quoteResponse']['result']:\n",
    "    world_indices_dictionary[i['symbol']] = i['fullExchangeName']\n",
    "world_indices_dictionary\n",
    "\n",
    "#-----------------------------------------------------------------------\n",
    "\n",
    "# Extract US bond indices\n",
    "with open('../JsonFiles/MarketBonds.json','r') as file:\n",
    "    bo_df = json.load(file)\n",
    "\n",
    "bond_indices = []\n",
    "bond_timezones = []\n",
    "for i in bo_df['spark']['result']:\n",
    "    if i['symbol'] in ['^IRX','^FVX','^TNX','^TYX']:\n",
    "        bond_indices.append(i['symbol'])\n",
    "        bond_timezones.append(i['response'][0]['meta']['currentTradingPeriod']['regular']['timezone'])\n",
    "    else:\n",
    "        pass\n",
    "\n",
    "# Extract Us bond indices dictionary with ticker and full exchange name\n",
    "bond_indices_dictionary = {}\n",
    "for i in bo_df['spark']['result']:\n",
    "    if (i['response'][0]['meta']['instrumentType']) == 'INDEX':\n",
    "        bond_indices_dictionary[i['response'][0]['meta']['symbol']] = i['response'][0]['meta']['longName']\n",
    "    else:\n",
    "        pass\n",
    "\n"
   ]
  },
  {
   "cell_type": "code",
   "execution_count": null,
   "id": "097ce7da",
   "metadata": {},
   "outputs": [
    {
     "name": "stdout",
     "output_type": "stream",
     "text": [
      "EDT\n",
      "CEST\n",
      "EDT\n",
      "CEST\n",
      "BST\n",
      "CEST\n",
      "EDT\n",
      "CDT\n",
      "EDT\n",
      "EDT\n",
      "EDT\n",
      "CEST\n",
      "CDT\n",
      "EDT\n",
      "['CDT', 'CDT', 'CDT', 'CDT']\n"
     ]
    }
   ],
   "source": [
    "with open('../JsonFiles/WorldIndices.json','r') as file:\n",
    "    wi_df = json.load(file)\n",
    "\n",
    "word_indices_timezones = []\n",
    "for i in wi_df['quoteResponse']['result']:\n",
    "    word_indices_timezones.append(i['exchangeTimezoneShortName'])\n",
    "\n",
    "print(bond_timezones)"
   ]
  }
 ],
 "metadata": {
  "kernelspec": {
   "display_name": "venv (3.12.3)",
   "language": "python",
   "name": "python3"
  },
  "language_info": {
   "codemirror_mode": {
    "name": "ipython",
    "version": 3
   },
   "file_extension": ".py",
   "mimetype": "text/x-python",
   "name": "python",
   "nbconvert_exporter": "python",
   "pygments_lexer": "ipython3",
   "version": "3.12.3"
  }
 },
 "nbformat": 4,
 "nbformat_minor": 5
}
